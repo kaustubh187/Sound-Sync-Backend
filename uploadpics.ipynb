{
 "cells": [
  {
   "cell_type": "code",
   "execution_count": 1,
   "metadata": {},
   "outputs": [],
   "source": [
    "db_connection = {\n",
    "    \"user\": \"postgres\",\n",
    "    \"password\": \"*******\",\n",
    "    \"host\": \"localhost\",\n",
    "    \"port\": \"5432\",\n",
    "    \"database\": \"soundsync\"\n",
    "}"
   ]
  },
  {
   "cell_type": "code",
   "execution_count": 2,
   "metadata": {},
   "outputs": [],
   "source": [
    "import psycopg2\n",
    "from datetime import datetime"
   ]
  },
  {
   "cell_type": "code",
   "execution_count": 3,
   "metadata": {},
   "outputs": [],
   "source": [
    "def image_to_bytea(image_path):\n",
    "    try:\n",
    "        # Read the image file into bytes\n",
    "        with open(image_path, 'rb') as f:\n",
    "            image_data = f.read()\n",
    "\n",
    "        return image_data\n",
    "\n",
    "    except Exception as e:\n",
    "        print(\"Error:\", e)\n",
    "        return None\n"
   ]
  },
  {
   "cell_type": "code",
   "execution_count": 4,
   "metadata": {},
   "outputs": [],
   "source": [
    "def set_profile_pic(userid, image_data):\n",
    "    # Replace these values with your actual database connection parameters\n",
    "    \n",
    "    try:\n",
    "        # Establish a connection to the PostgreSQL database\n",
    "        connection = psycopg2.connect(**db_connection)\n",
    "\n",
    "        # Create a cursor object to interact with the database\n",
    "        cursor = connection.cursor()\n",
    "\n",
    "        # Use SQL parameters to prevent SQL injection\n",
    "        \n",
    "        # Execute the update query with the image data and userid\n",
    "        cursor.execute('UPDATE \"user\" SET profilepic = %s WHERE id = %s', (image_data, userid))\n",
    "\n",
    "        # Commit the changes to the database\n",
    "        connection.commit()\n",
    "\n",
    "        return True, \"Profile picture updated successfully\"\n",
    "    except Exception as e:\n",
    "        return False, f\"Error updating profile picture: {str(e)}\"\n",
    "    finally:\n",
    "        # Close the cursor and connection\n",
    "        if cursor:\n",
    "            cursor.close()\n",
    "        if connection:\n",
    "            connection.close()\n"
   ]
  },
  {
   "cell_type": "code",
   "execution_count": 20,
   "metadata": {},
   "outputs": [],
   "source": [
    "image_data = image_to_bytea('pfp98.jpg')"
   ]
  },
  {
   "cell_type": "code",
   "execution_count": 21,
   "metadata": {},
   "outputs": [
    {
     "data": {
      "text/plain": [
       "(True, 'Profile picture updated successfully')"
      ]
     },
     "execution_count": 21,
     "metadata": {},
     "output_type": "execute_result"
    }
   ],
   "source": [
    "set_profile_pic(16,image_data)"
   ]
  },
  {
   "cell_type": "code",
   "execution_count": 3,
   "metadata": {},
   "outputs": [],
   "source": [
    "import pandas as pd\n",
    "from sklearn.metrics.pairwise import cosine_similarity\n",
    "\n",
    "def recommend(user_id):\n",
    "    conn = psycopg2.connect(**db_connection)\n",
    "    cursor = conn.cursor()\n",
    "\n",
    "    # Fetch the users that the current user is already following\n",
    "    query_following = f'SELECT following FROM follower_info WHERE follower = {user_id};'\n",
    "    cursor.execute(query_following)\n",
    "    users_already_followed = [user[0] for user in cursor.fetchall()]\n",
    "\n",
    "    query_cluster_label = f'SELECT cluster_label FROM user_clusters WHERE user_id = {user_id};'\n",
    "    cursor.execute(query_cluster_label)\n",
    "    cluster_label = cursor.fetchone()[0]\n",
    "\n",
    "    # Fetch all users within the same cluster\n",
    "    query_cluster_users = f'SELECT user_id FROM user_clusters WHERE cluster_label = {cluster_label} AND user_id != {user_id};'\n",
    "    cursor.execute(query_cluster_users)\n",
    "    users_in_cluster = [user[0] for user in cursor.fetchall()]\n",
    "\n",
    "    query_cluster_centers = f'SELECT * FROM cluster_centers;'\n",
    "    cursor.execute(query_cluster_centers)\n",
    "    rows = cursor.fetchall()\n",
    "    columns = [desc[0] for desc in cursor.description]\n",
    "\n",
    "    # Create a DataFrame using the extracted rows and columns\n",
    "    cluster_centers = pd.DataFrame(rows, columns=columns)\n",
    "    cluster_centers_without_target = cluster_centers[cluster_centers['cluster_label'] != cluster_label]\n",
    "\n",
    "    # Get the features for the target cluster\n",
    "    target_cluster_features = cluster_centers[cluster_centers['cluster_label'] == cluster_label].iloc[:, 1:]\n",
    "\n",
    "    # Calculate cosine similarity with the remaining clusters\n",
    "    similarity = cosine_similarity(cluster_centers_without_target.iloc[:, 1:], target_cluster_features)\n",
    "    cluster_ordering = similarity.sum(axis=1).argsort()[::-1]\n",
    "    recommended_users = []\n",
    "\n",
    "    # Add users from the current cluster, excluding those already followed\n",
    "    recommended_users.extend([user for user in users_in_cluster if user not in users_already_followed])\n",
    "\n",
    "    if len(recommended_users) >= 5:\n",
    "        return recommended_users[:5]\n",
    "\n",
    "    for cluster_index in cluster_ordering:\n",
    "        cluster_label = cluster_centers_without_target.iloc[cluster_index]['cluster_label']\n",
    "\n",
    "        # Fetch users from the current cluster\n",
    "        query_cluster_users = f'SELECT user_id FROM user_clusters WHERE cluster_label = {cluster_label};'\n",
    "        cursor.execute(query_cluster_users)\n",
    "        cluster_users = [user[0] for user in cursor.fetchall()]\n",
    "\n",
    "        # Add users to the recommended list, excluding those already followed\n",
    "        recommended_users.extend([user for user in cluster_users if user not in users_already_followed])\n",
    "\n",
    "        # Break if we have enough users\n",
    "        if len(recommended_users) >= 5:\n",
    "            break\n",
    "\n",
    "    conn.close()\n",
    "    return recommended_users[:5]"
   ]
  },
  {
   "cell_type": "code",
   "execution_count": 4,
   "metadata": {},
   "outputs": [
    {
     "data": {
      "text/plain": [
       "[14, 17, 5, 11, 12]"
      ]
     },
     "execution_count": 4,
     "metadata": {},
     "output_type": "execute_result"
    }
   ],
   "source": [
    "def fetch_top_songs(user_id):\n",
    "    # From song_data fetch all songs whose userid==user_id \n",
    "    # From songid(spotify songid) fetch their respective title, albumarturl and artist name from spotipy api \n",
    "    # Return a list of songs with this data."
   ]
  },
  {
   "cell_type": "code",
   "execution_count": 9,
   "metadata": {},
   "outputs": [],
   "source": [
    "\n",
    "from spotipy import Spotify\n",
    "SPOTIPY_CLIENT_ID = '352a916cc74b412bb072ec99a1298376'\n",
    "SPOTIPY_CLIENT_SECRET = '24fd5cdfc91c4853bdf6a0a38e5e0901'\n",
    "from spotipy.oauth2 import SpotifyClientCredentials\n",
    "def fetch_top_songs(user_id):\n",
    "    # Connect to the database\n",
    "    conn = psycopg2.connect(**db_connection)\n",
    "    cursor = conn.cursor()\n",
    "\n",
    "    # Query to fetch all songs for the given user_id\n",
    "    query_song_data = f'SELECT songid FROM sound_data WHERE userid = {user_id};'\n",
    "    cursor.execute(query_song_data)\n",
    "    song_ids = [song[0] for song in cursor.fetchall()]\n",
    "\n",
    "    # Close the database connection\n",
    "    conn.close()\n",
    "\n",
    "    # Initialize Spotipy client\n",
    "    sp = Spotify(client_credentials_manager=SpotifyClientCredentials(SPOTIPY_CLIENT_ID, SPOTIPY_CLIENT_SECRET))\n",
    "\n",
    "    # Fetch additional information for each song from Spotipy\n",
    "    top_songs = []\n",
    "    for song_id in song_ids:\n",
    "        track_info = sp.track(song_id)\n",
    "        title = track_info['name']\n",
    "        album_art_url = track_info['album']['images'][0]['url']  # Assuming the first image for simplicity\n",
    "        artist_name = track_info['artists'][0]['name']  # Assuming the first artist for simplicity\n",
    "\n",
    "        # Create a dictionary with song information\n",
    "        song_info = {\n",
    "            'title': title,\n",
    "            'album_art_url': album_art_url,\n",
    "            'artist_name': artist_name\n",
    "        }\n",
    "\n",
    "        top_songs.append(song_info)\n",
    "\n",
    "    return top_songs\n"
   ]
  },
  {
   "cell_type": "code",
   "execution_count": 10,
   "metadata": {},
   "outputs": [
    {
     "data": {
      "text/plain": [
      ]
     },
     "execution_count": 10,
     "metadata": {},
     "output_type": "execute_result"
    }
   ],
   "source": [
    "mydata = fetch_top_songs(3)\n",
    "mydata"
   ]
  }
 ],
 "metadata": {
  "kernelspec": {
   "display_name": "Python 3",
   "language": "python",
   "name": "python3"
  },
  "language_info": {
   "codemirror_mode": {
    "name": "ipython",
    "version": 3
   },
   "file_extension": ".py",
   "mimetype": "text/x-python",
   "name": "python",
   "nbconvert_exporter": "python",
   "pygments_lexer": "ipython3",
   "version": "3.10.1"
  }
 },
 "nbformat": 4,
 "nbformat_minor": 2
}
